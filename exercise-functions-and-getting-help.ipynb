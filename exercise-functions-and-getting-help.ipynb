{
 "cells": [
  {
   "cell_type": "markdown",
   "id": "5c952d7e",
   "metadata": {
    "papermill": {
     "duration": 0.01195,
     "end_time": "2022-01-16T08:42:48.084262",
     "exception": false,
     "start_time": "2022-01-16T08:42:48.072312",
     "status": "completed"
    },
    "tags": []
   },
   "source": [
    "**This notebook is an exercise in the [Python](https://www.kaggle.com/learn/python) course.  You can reference the tutorial at [this link](https://www.kaggle.com/colinmorris/functions-and-getting-help).**\n",
    "\n",
    "---\n"
   ]
  },
  {
   "cell_type": "markdown",
   "id": "ac085e4a",
   "metadata": {
    "papermill": {
     "duration": 0.010117,
     "end_time": "2022-01-16T08:42:48.105585",
     "exception": false,
     "start_time": "2022-01-16T08:42:48.095468",
     "status": "completed"
    },
    "tags": []
   },
   "source": [
    "Functions are powerful. Try writing some yourself.\n",
    "\n",
    "As before, don't forget to run the setup code below before jumping into question 1."
   ]
  },
  {
   "cell_type": "code",
   "execution_count": 1,
   "id": "b67841e0",
   "metadata": {
    "_kg_hide-input": true,
    "_kg_hide-output": true,
    "execution": {
     "iopub.execute_input": "2022-01-16T08:42:48.132064Z",
     "iopub.status.busy": "2022-01-16T08:42:48.130391Z",
     "iopub.status.idle": "2022-01-16T08:42:48.174331Z",
     "shell.execute_reply": "2022-01-16T08:42:48.173767Z",
     "shell.execute_reply.started": "2022-01-16T08:18:49.712063Z"
    },
    "papermill": {
     "duration": 0.058542,
     "end_time": "2022-01-16T08:42:48.174522",
     "exception": false,
     "start_time": "2022-01-16T08:42:48.115980",
     "status": "completed"
    },
    "tags": []
   },
   "outputs": [
    {
     "name": "stdout",
     "output_type": "stream",
     "text": [
      "Setup complete.\n"
     ]
    }
   ],
   "source": [
    "# SETUP. You don't need to worry for now about what this code does or how it works.\n",
    "from learntools.core import binder; binder.bind(globals())\n",
    "from learntools.python.ex2 import *\n",
    "print('Setup complete.')"
   ]
  },
  {
   "cell_type": "markdown",
   "id": "89d6e663",
   "metadata": {
    "papermill": {
     "duration": 0.010686,
     "end_time": "2022-01-16T08:42:48.196514",
     "exception": false,
     "start_time": "2022-01-16T08:42:48.185828",
     "status": "completed"
    },
    "tags": []
   },
   "source": [
    "# 1.\n",
    "\n",
    "Complete the body of the following function according to its docstring.\n",
    "\n",
    "HINT: Python has a built-in function `round`."
   ]
  },
  {
   "cell_type": "code",
   "execution_count": 2,
   "id": "2cdaa396",
   "metadata": {
    "execution": {
     "iopub.execute_input": "2022-01-16T08:42:48.221856Z",
     "iopub.status.busy": "2022-01-16T08:42:48.220925Z",
     "iopub.status.idle": "2022-01-16T08:42:48.229980Z",
     "shell.execute_reply": "2022-01-16T08:42:48.230422Z",
     "shell.execute_reply.started": "2022-01-16T08:19:53.048342Z"
    },
    "papermill": {
     "duration": 0.023314,
     "end_time": "2022-01-16T08:42:48.230594",
     "exception": false,
     "start_time": "2022-01-16T08:42:48.207280",
     "status": "completed"
    },
    "tags": []
   },
   "outputs": [
    {
     "data": {
      "application/javascript": [
       "parent.postMessage({\"jupyterEvent\": \"custom.exercise_interaction\", \"data\": {\"outcomeType\": 1, \"valueTowardsCompletion\": 0.16666666666666666, \"interactionType\": 1, \"questionType\": 2, \"questionId\": \"1_RoundFunctionProblem\", \"learnToolsVersion\": \"0.3.4\", \"failureMessage\": \"\", \"exceptionClass\": \"\", \"trace\": \"\"}}, \"*\")"
      ],
      "text/plain": [
       "<IPython.core.display.Javascript object>"
      ]
     },
     "metadata": {},
     "output_type": "display_data"
    },
    {
     "data": {
      "text/markdown": [
       "<span style=\"color:#33cc33\">Correct</span>"
      ],
      "text/plain": [
       "Correct"
      ]
     },
     "metadata": {},
     "output_type": "display_data"
    }
   ],
   "source": [
    "def round_to_two_places(num):\n",
    "    \"\"\"Return the given number rounded to two decimal places. \n",
    "    \n",
    "    >>> round_to_two_places(3.14159)\n",
    "    3.14\n",
    "    \"\"\"\n",
    "    # Replace this body with your own code.\n",
    "    # (\"pass\" is a keyword that does literally nothing. We used it as a placeholder\n",
    "    # because after we begin a code block, Python requires at least one line of code)\n",
    "    return round(num,2)\n",
    "\n",
    "# Check your answer\n",
    "q1.check()"
   ]
  },
  {
   "cell_type": "code",
   "execution_count": 3,
   "id": "36cab258",
   "metadata": {
    "execution": {
     "iopub.execute_input": "2022-01-16T08:42:48.257205Z",
     "iopub.status.busy": "2022-01-16T08:42:48.256343Z",
     "iopub.status.idle": "2022-01-16T08:42:48.266962Z",
     "shell.execute_reply": "2022-01-16T08:42:48.266514Z",
     "shell.execute_reply.started": "2022-01-16T08:20:42.789617Z"
    },
    "papermill": {
     "duration": 0.024906,
     "end_time": "2022-01-16T08:42:48.267094",
     "exception": false,
     "start_time": "2022-01-16T08:42:48.242188",
     "status": "completed"
    },
    "tags": []
   },
   "outputs": [
    {
     "data": {
      "application/javascript": [
       "parent.postMessage({\"jupyterEvent\": \"custom.exercise_interaction\", \"data\": {\"interactionType\": 2, \"questionType\": 2, \"questionId\": \"1_RoundFunctionProblem\", \"learnToolsVersion\": \"0.3.4\", \"valueTowardsCompletion\": 0.0, \"failureMessage\": \"\", \"exceptionClass\": \"\", \"trace\": \"\", \"outcomeType\": 4}}, \"*\")"
      ],
      "text/plain": [
       "<IPython.core.display.Javascript object>"
      ]
     },
     "metadata": {},
     "output_type": "display_data"
    },
    {
     "data": {
      "text/markdown": [
       "<span style=\"color:#3366cc\">Hint:</span> Run `help(round)` in the console (or in a code cell) to learn more about the round function. You'll need to use the function's optional second argument."
      ],
      "text/plain": [
       "Hint: Run `help(round)` in the console (or in a code cell) to learn more about the round function. You'll need to use the function's optional second argument."
      ]
     },
     "metadata": {},
     "output_type": "display_data"
    },
    {
     "data": {
      "application/javascript": [
       "parent.postMessage({\"jupyterEvent\": \"custom.exercise_interaction\", \"data\": {\"interactionType\": 3, \"questionType\": 2, \"questionId\": \"1_RoundFunctionProblem\", \"learnToolsVersion\": \"0.3.4\", \"valueTowardsCompletion\": 0.0, \"failureMessage\": \"\", \"exceptionClass\": \"\", \"trace\": \"\", \"outcomeType\": 4}}, \"*\")"
      ],
      "text/plain": [
       "<IPython.core.display.Javascript object>"
      ]
     },
     "metadata": {},
     "output_type": "display_data"
    },
    {
     "data": {
      "text/markdown": [
       "<span style=\"color:#33cc99\">Solution:</span> \n",
       "```python\n",
       "return round(num, 2)\n",
       "```"
      ],
      "text/plain": [
       "Solution: \n",
       "```python\n",
       "return round(num, 2)\n",
       "```"
      ]
     },
     "metadata": {},
     "output_type": "display_data"
    }
   ],
   "source": [
    "# Uncomment the following for a hint\n",
    "q1.hint()\n",
    "# Or uncomment the following to peek at the solution\n",
    "q1.solution()"
   ]
  },
  {
   "cell_type": "markdown",
   "id": "68b18f19",
   "metadata": {
    "papermill": {
     "duration": 0.012751,
     "end_time": "2022-01-16T08:42:48.292691",
     "exception": false,
     "start_time": "2022-01-16T08:42:48.279940",
     "status": "completed"
    },
    "tags": []
   },
   "source": [
    "# 2.\n",
    "The help for `round` says that `ndigits` (the second argument) may be negative.\n",
    "What do you think will happen when it is? Try some examples in the following cell."
   ]
  },
  {
   "cell_type": "code",
   "execution_count": 4,
   "id": "c0246906",
   "metadata": {
    "execution": {
     "iopub.execute_input": "2022-01-16T08:42:48.328356Z",
     "iopub.status.busy": "2022-01-16T08:42:48.327785Z",
     "iopub.status.idle": "2022-01-16T08:42:48.330907Z",
     "shell.execute_reply": "2022-01-16T08:42:48.331624Z",
     "shell.execute_reply.started": "2022-01-16T08:21:42.053745Z"
    },
    "papermill": {
     "duration": 0.025056,
     "end_time": "2022-01-16T08:42:48.331841",
     "exception": false,
     "start_time": "2022-01-16T08:42:48.306785",
     "status": "completed"
    },
    "tags": []
   },
   "outputs": [
    {
     "data": {
      "text/plain": [
       "0.0"
      ]
     },
     "execution_count": 4,
     "metadata": {},
     "output_type": "execute_result"
    }
   ],
   "source": [
    "# Put your test code here\n",
    "round(1.314,-2)"
   ]
  },
  {
   "cell_type": "markdown",
   "id": "e6883ad0",
   "metadata": {
    "papermill": {
     "duration": 0.015331,
     "end_time": "2022-01-16T08:42:48.362779",
     "exception": false,
     "start_time": "2022-01-16T08:42:48.347448",
     "status": "completed"
    },
    "tags": []
   },
   "source": [
    "Can you think of a case where this would be useful?  Once you're ready, run the code cell below to see the answer and to receive credit for completing the problem."
   ]
  },
  {
   "cell_type": "code",
   "execution_count": 5,
   "id": "d58f7c19",
   "metadata": {
    "execution": {
     "iopub.execute_input": "2022-01-16T08:42:48.399451Z",
     "iopub.status.busy": "2022-01-16T08:42:48.398559Z",
     "iopub.status.idle": "2022-01-16T08:42:48.405128Z",
     "shell.execute_reply": "2022-01-16T08:42:48.405702Z",
     "shell.execute_reply.started": "2022-01-16T08:22:02.517781Z"
    },
    "papermill": {
     "duration": 0.023603,
     "end_time": "2022-01-16T08:42:48.405866",
     "exception": false,
     "start_time": "2022-01-16T08:42:48.382263",
     "status": "completed"
    },
    "tags": []
   },
   "outputs": [
    {
     "data": {
      "application/javascript": [
       "parent.postMessage({\"jupyterEvent\": \"custom.exercise_interaction\", \"data\": {\"interactionType\": 3, \"questionType\": 4, \"questionId\": \"2_RoundNdigitsProblem\", \"learnToolsVersion\": \"0.3.4\", \"valueTowardsCompletion\": 0.0, \"failureMessage\": \"\", \"exceptionClass\": \"\", \"trace\": \"\", \"outcomeType\": 4}}, \"*\")"
      ],
      "text/plain": [
       "<IPython.core.display.Javascript object>"
      ]
     },
     "metadata": {},
     "output_type": "display_data"
    },
    {
     "data": {
      "text/markdown": [
       "<span style=\"color:#33cc99\">Solution:</span> As you've seen, `ndigits=-1` rounds to the nearest 10, `ndigits=-2` rounds to the nearest 100 and so on. Where might this be useful? Suppose we're dealing with large numbers:\n",
       "\n",
       "> The area of Finland is 338,424 km²  \n",
       "> The area of Greenland is 2,166,086 km²\n",
       "\n",
       "We probably don't care whether it's really 338,424, or 338,425, or 338,177. All those digits of accuracy are just distracting. We can chop them off by calling `round()` with `ndigits=-3`:\n",
       "\n",
       "> The area of Finland is 338,000 km²  \n",
       "> The area of Greenland is 2,166,000 km²\n",
       "\n",
       "(We'll talk about how we would get the commas later when we talk about string formatting :))\n"
      ],
      "text/plain": [
       "Solution: As you've seen, `ndigits=-1` rounds to the nearest 10, `ndigits=-2` rounds to the nearest 100 and so on. Where might this be useful? Suppose we're dealing with large numbers:\n",
       "\n",
       "> The area of Finland is 338,424 km²  \n",
       "> The area of Greenland is 2,166,086 km²\n",
       "\n",
       "We probably don't care whether it's really 338,424, or 338,425, or 338,177. All those digits of accuracy are just distracting. We can chop them off by calling `round()` with `ndigits=-3`:\n",
       "\n",
       "> The area of Finland is 338,000 km²  \n",
       "> The area of Greenland is 2,166,000 km²\n",
       "\n",
       "(We'll talk about how we would get the commas later when we talk about string formatting :))"
      ]
     },
     "metadata": {},
     "output_type": "display_data"
    }
   ],
   "source": [
    "# Check your answer (Run this code cell to receive credit!)\n",
    "q2.solution()"
   ]
  },
  {
   "cell_type": "markdown",
   "id": "5bb396a0",
   "metadata": {
    "papermill": {
     "duration": 0.013798,
     "end_time": "2022-01-16T08:42:48.433807",
     "exception": false,
     "start_time": "2022-01-16T08:42:48.420009",
     "status": "completed"
    },
    "tags": []
   },
   "source": [
    "# 3.\n",
    "\n",
    "In the previous exercise, the candy-sharing friends Alice, Bob and Carol tried to split candies evenly. For the sake of their friendship, any candies left over would be smashed. For example, if they collectively bring home 91 candies, they'll take 30 each and smash 1.\n",
    "\n",
    "Below is a simple function that will calculate the number of candies to smash for *any* number of total candies.\n",
    "\n",
    "Modify it so that it optionally takes a second argument representing the number of friends the candies are being split between. If no second argument is provided, it should assume 3 friends, as before.\n",
    "\n",
    "Update the docstring to reflect this new behaviour."
   ]
  },
  {
   "cell_type": "code",
   "execution_count": 6,
   "id": "6debb161",
   "metadata": {
    "execution": {
     "iopub.execute_input": "2022-01-16T08:42:48.465118Z",
     "iopub.status.busy": "2022-01-16T08:42:48.464224Z",
     "iopub.status.idle": "2022-01-16T08:42:48.471371Z",
     "shell.execute_reply": "2022-01-16T08:42:48.471906Z",
     "shell.execute_reply.started": "2022-01-16T08:24:29.060121Z"
    },
    "papermill": {
     "duration": 0.024238,
     "end_time": "2022-01-16T08:42:48.472054",
     "exception": false,
     "start_time": "2022-01-16T08:42:48.447816",
     "status": "completed"
    },
    "tags": []
   },
   "outputs": [
    {
     "data": {
      "application/javascript": [
       "parent.postMessage({\"jupyterEvent\": \"custom.exercise_interaction\", \"data\": {\"outcomeType\": 1, \"valueTowardsCompletion\": 0.16666666666666666, \"interactionType\": 1, \"questionType\": 2, \"questionId\": \"3_CandySmashingFunctionProblem\", \"learnToolsVersion\": \"0.3.4\", \"failureMessage\": \"\", \"exceptionClass\": \"\", \"trace\": \"\"}}, \"*\")"
      ],
      "text/plain": [
       "<IPython.core.display.Javascript object>"
      ]
     },
     "metadata": {},
     "output_type": "display_data"
    },
    {
     "data": {
      "text/markdown": [
       "<span style=\"color:#33cc33\">Correct</span>"
      ],
      "text/plain": [
       "Correct"
      ]
     },
     "metadata": {},
     "output_type": "display_data"
    }
   ],
   "source": [
    "def to_smash(total_candies,number_of_friend=3):\n",
    "    \"\"\"Return the number of leftover candies that must be smashed after distributing\n",
    "    the given number of candies evenly between 3 friends.\n",
    "    \n",
    "    >>> to_smash(91)\n",
    "    1\n",
    "    \"\"\"\n",
    "    return total_candies % number_of_friend\n",
    "\n",
    "# Check your answer\n",
    "q3.check()"
   ]
  },
  {
   "cell_type": "code",
   "execution_count": 7,
   "id": "6424b2fa",
   "metadata": {
    "execution": {
     "iopub.execute_input": "2022-01-16T08:42:48.505228Z",
     "iopub.status.busy": "2022-01-16T08:42:48.504323Z",
     "iopub.status.idle": "2022-01-16T08:42:48.511553Z",
     "shell.execute_reply": "2022-01-16T08:42:48.511007Z",
     "shell.execute_reply.started": "2022-01-16T08:24:33.747238Z"
    },
    "papermill": {
     "duration": 0.024865,
     "end_time": "2022-01-16T08:42:48.511693",
     "exception": false,
     "start_time": "2022-01-16T08:42:48.486828",
     "status": "completed"
    },
    "tags": []
   },
   "outputs": [
    {
     "data": {
      "application/javascript": [
       "parent.postMessage({\"jupyterEvent\": \"custom.exercise_interaction\", \"data\": {\"interactionType\": 2, \"questionType\": 2, \"questionId\": \"3_CandySmashingFunctionProblem\", \"learnToolsVersion\": \"0.3.4\", \"valueTowardsCompletion\": 0.0, \"failureMessage\": \"\", \"exceptionClass\": \"\", \"trace\": \"\", \"outcomeType\": 4}}, \"*\")"
      ],
      "text/plain": [
       "<IPython.core.display.Javascript object>"
      ]
     },
     "metadata": {},
     "output_type": "display_data"
    },
    {
     "data": {
      "text/markdown": [
       "<span style=\"color:#3366cc\">Hint:</span> Refer to the section of the last tutorial notebook where we talked about default arguments"
      ],
      "text/plain": [
       "Hint: Refer to the section of the last tutorial notebook where we talked about default arguments"
      ]
     },
     "metadata": {},
     "output_type": "display_data"
    }
   ],
   "source": [
    "q3.hint()"
   ]
  },
  {
   "cell_type": "code",
   "execution_count": 8,
   "id": "55221ae0",
   "metadata": {
    "execution": {
     "iopub.execute_input": "2022-01-16T08:42:48.547270Z",
     "iopub.status.busy": "2022-01-16T08:42:48.546716Z",
     "iopub.status.idle": "2022-01-16T08:42:48.550777Z",
     "shell.execute_reply": "2022-01-16T08:42:48.551230Z",
     "shell.execute_reply.started": "2022-01-16T08:24:37.694980Z"
    },
    "papermill": {
     "duration": 0.024266,
     "end_time": "2022-01-16T08:42:48.551382",
     "exception": false,
     "start_time": "2022-01-16T08:42:48.527116",
     "status": "completed"
    },
    "tags": []
   },
   "outputs": [
    {
     "data": {
      "application/javascript": [
       "parent.postMessage({\"jupyterEvent\": \"custom.exercise_interaction\", \"data\": {\"interactionType\": 3, \"questionType\": 2, \"questionId\": \"3_CandySmashingFunctionProblem\", \"learnToolsVersion\": \"0.3.4\", \"valueTowardsCompletion\": 0.0, \"failureMessage\": \"\", \"exceptionClass\": \"\", \"trace\": \"\", \"outcomeType\": 4}}, \"*\")"
      ],
      "text/plain": [
       "<IPython.core.display.Javascript object>"
      ]
     },
     "metadata": {},
     "output_type": "display_data"
    },
    {
     "data": {
      "text/markdown": [
       "<span style=\"color:#33cc99\">Solution:</span> \n",
       "```python\n",
       "def to_smash(total_candies, n_friends=3):\n",
       "    return total_candies % n_friends\n",
       "```"
      ],
      "text/plain": [
       "Solution: \n",
       "```python\n",
       "def to_smash(total_candies, n_friends=3):\n",
       "    return total_candies % n_friends\n",
       "```"
      ]
     },
     "metadata": {},
     "output_type": "display_data"
    }
   ],
   "source": [
    "q3.solution()"
   ]
  },
  {
   "cell_type": "markdown",
   "id": "ebc5b754",
   "metadata": {
    "papermill": {
     "duration": 0.016128,
     "end_time": "2022-01-16T08:42:48.583865",
     "exception": false,
     "start_time": "2022-01-16T08:42:48.567737",
     "status": "completed"
    },
    "tags": []
   },
   "source": [
    "# 4. (Optional)\n",
    "\n",
    "It may not be fun, but reading and understanding error messages will be an important part of your Python career.\n",
    "\n",
    "Each code cell below contains some commented buggy code. For each cell...\n",
    "\n",
    "1. Read the code and predict what you think will happen when it's run.\n",
    "2. Then uncomment the code and run it to see what happens. (**Tip**: In the kernel editor, you can highlight several lines and press `ctrl`+`/` to toggle commenting.)\n",
    "3. Fix the code (so that it accomplishes its intended purpose without throwing an exception)\n",
    "\n",
    "<!-- TODO: should this be autochecked? Delta is probably pretty small. -->"
   ]
  },
  {
   "cell_type": "code",
   "execution_count": 9,
   "id": "f19f1796",
   "metadata": {
    "execution": {
     "iopub.execute_input": "2022-01-16T08:42:48.618961Z",
     "iopub.status.busy": "2022-01-16T08:42:48.618414Z",
     "iopub.status.idle": "2022-01-16T08:42:48.622365Z",
     "shell.execute_reply": "2022-01-16T08:42:48.622823Z",
     "shell.execute_reply.started": "2022-01-16T08:40:32.479642Z"
    },
    "papermill": {
     "duration": 0.022909,
     "end_time": "2022-01-16T08:42:48.622977",
     "exception": false,
     "start_time": "2022-01-16T08:42:48.600068",
     "status": "completed"
    },
    "tags": []
   },
   "outputs": [
    {
     "data": {
      "text/plain": [
       "10.0"
      ]
     },
     "execution_count": 9,
     "metadata": {},
     "output_type": "execute_result"
    }
   ],
   "source": [
    " round_to_two_places(9.9999)"
   ]
  },
  {
   "cell_type": "code",
   "execution_count": 10,
   "id": "1289b07e",
   "metadata": {
    "execution": {
     "iopub.execute_input": "2022-01-16T08:42:48.659183Z",
     "iopub.status.busy": "2022-01-16T08:42:48.658623Z",
     "iopub.status.idle": "2022-01-16T08:42:48.663188Z",
     "shell.execute_reply": "2022-01-16T08:42:48.663631Z",
     "shell.execute_reply.started": "2022-01-16T08:41:25.932869Z"
    },
    "papermill": {
     "duration": 0.024046,
     "end_time": "2022-01-16T08:42:48.663787",
     "exception": false,
     "start_time": "2022-01-16T08:42:48.639741",
     "status": "completed"
    },
    "tags": []
   },
   "outputs": [
    {
     "name": "stdout",
     "output_type": "stream",
     "text": [
      "5\n"
     ]
    }
   ],
   "source": [
    "x = -10\n",
    "y = 5\n",
    "# Which of the two variables above has the smallest absolute value?\n",
    "smallest_abs = min(abs(x),abs(y))\n",
    "print(smallest_abs)"
   ]
  },
  {
   "cell_type": "code",
   "execution_count": 11,
   "id": "066e43c3",
   "metadata": {
    "execution": {
     "iopub.execute_input": "2022-01-16T08:42:48.703852Z",
     "iopub.status.busy": "2022-01-16T08:42:48.703214Z",
     "iopub.status.idle": "2022-01-16T08:42:48.706155Z",
     "shell.execute_reply": "2022-01-16T08:42:48.705732Z",
     "shell.execute_reply.started": "2022-01-16T08:41:48.208414Z"
    },
    "papermill": {
     "duration": 0.02421,
     "end_time": "2022-01-16T08:42:48.706285",
     "exception": false,
     "start_time": "2022-01-16T08:42:48.682075",
     "status": "completed"
    },
    "tags": []
   },
   "outputs": [
    {
     "name": "stdout",
     "output_type": "stream",
     "text": [
      "5\n"
     ]
    }
   ],
   "source": [
    "def f(x):\n",
    "    y = abs(x)\n",
    "    return y\n",
    "\n",
    "print(f(5))"
   ]
  },
  {
   "cell_type": "markdown",
   "id": "0b2f027b",
   "metadata": {
    "papermill": {
     "duration": 0.017616,
     "end_time": "2022-01-16T08:42:48.740878",
     "exception": false,
     "start_time": "2022-01-16T08:42:48.723262",
     "status": "completed"
    },
    "tags": []
   },
   "source": [
    "# Keep Going\n",
    "\n",
    "Nice job with the code. Next up, you'll learn about *conditionals*, which you'll need to **[write interesting programs](https://www.kaggle.com/colinmorris/booleans-and-conditionals)**. "
   ]
  },
  {
   "cell_type": "markdown",
   "id": "7055eb09",
   "metadata": {
    "papermill": {
     "duration": 0.021499,
     "end_time": "2022-01-16T08:42:48.783142",
     "exception": false,
     "start_time": "2022-01-16T08:42:48.761643",
     "status": "completed"
    },
    "tags": []
   },
   "source": [
    "---\n",
    "\n",
    "\n",
    "\n",
    "\n",
    "*Have questions or comments? Visit the [course discussion forum](https://www.kaggle.com/learn/python/discussion) to chat with other learners.*"
   ]
  }
 ],
 "metadata": {
  "kernelspec": {
   "display_name": "Python 3",
   "language": "python",
   "name": "python3"
  },
  "language_info": {
   "codemirror_mode": {
    "name": "ipython",
    "version": 3
   },
   "file_extension": ".py",
   "mimetype": "text/x-python",
   "name": "python",
   "nbconvert_exporter": "python",
   "pygments_lexer": "ipython3",
   "version": "3.7.12"
  },
  "papermill": {
   "default_parameters": {},
   "duration": 9.553711,
   "end_time": "2022-01-16T08:42:49.411178",
   "environment_variables": {},
   "exception": null,
   "input_path": "__notebook__.ipynb",
   "output_path": "__notebook__.ipynb",
   "parameters": {},
   "start_time": "2022-01-16T08:42:39.857467",
   "version": "2.3.3"
  }
 },
 "nbformat": 4,
 "nbformat_minor": 5
}
