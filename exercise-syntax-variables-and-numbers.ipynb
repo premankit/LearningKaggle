{
 "cells": [
  {
   "cell_type": "markdown",
   "id": "a8dacdd1",
   "metadata": {
    "papermill": {
     "duration": 0.023645,
     "end_time": "2022-01-16T08:44:58.988660",
     "exception": false,
     "start_time": "2022-01-16T08:44:58.965015",
     "status": "completed"
    },
    "tags": []
   },
   "source": [
    "**This notebook is an exercise in the [Python](https://www.kaggle.com/learn/python) course.  You can reference the tutorial at [this link](https://www.kaggle.com/colinmorris/hello-python).**\n",
    "\n",
    "---\n"
   ]
  },
  {
   "cell_type": "markdown",
   "id": "5e74e7e8",
   "metadata": {
    "papermill": {
     "duration": 0.021889,
     "end_time": "2022-01-16T08:44:59.034970",
     "exception": false,
     "start_time": "2022-01-16T08:44:59.013081",
     "status": "completed"
    },
    "tags": []
   },
   "source": [
    "Welcome to your first set of Python coding problems.  If this is your first time using Kaggle Notebooks, welcome! \n",
    "\n",
    "Notebooks are composed of blocks (called \"cells\") of text and code. Each of these is editable, though you'll mainly be editing the code cells to answer some questions.\n",
    "\n",
    "To get started, try running the code cell below (by pressing the ► button, or clicking on the cell and pressing ctrl+enter on your keyboard)."
   ]
  },
  {
   "cell_type": "code",
   "execution_count": 1,
   "id": "8f2aa23a",
   "metadata": {
    "execution": {
     "iopub.execute_input": "2022-01-16T08:44:59.084897Z",
     "iopub.status.busy": "2022-01-16T08:44:59.083545Z",
     "iopub.status.idle": "2022-01-16T08:44:59.095820Z",
     "shell.execute_reply": "2022-01-16T08:44:59.095050Z",
     "shell.execute_reply.started": "2022-01-16T06:20:00.103176Z"
    },
    "papermill": {
     "duration": 0.038881,
     "end_time": "2022-01-16T08:44:59.096000",
     "exception": false,
     "start_time": "2022-01-16T08:44:59.057119",
     "status": "completed"
    },
    "tags": []
   },
   "outputs": [
    {
     "name": "stdout",
     "output_type": "stream",
     "text": [
      "You've successfully run some Python code\n",
      "Congratulations!\n"
     ]
    }
   ],
   "source": [
    "print(\"You've successfully run some Python code\")\n",
    "print(\"Congratulations!\")"
   ]
  },
  {
   "cell_type": "code",
   "execution_count": null,
   "id": "47fc6ac5",
   "metadata": {
    "papermill": {
     "duration": 0.022344,
     "end_time": "2022-01-16T08:44:59.141294",
     "exception": false,
     "start_time": "2022-01-16T08:44:59.118950",
     "status": "completed"
    },
    "tags": []
   },
   "outputs": [],
   "source": []
  },
  {
   "cell_type": "code",
   "execution_count": null,
   "id": "7262558c",
   "metadata": {
    "papermill": {
     "duration": 0.023133,
     "end_time": "2022-01-16T08:44:59.187114",
     "exception": false,
     "start_time": "2022-01-16T08:44:59.163981",
     "status": "completed"
    },
    "tags": []
   },
   "outputs": [],
   "source": []
  },
  {
   "cell_type": "code",
   "execution_count": null,
   "id": "00ccef0b",
   "metadata": {
    "papermill": {
     "duration": 0.022341,
     "end_time": "2022-01-16T08:44:59.232059",
     "exception": false,
     "start_time": "2022-01-16T08:44:59.209718",
     "status": "completed"
    },
    "tags": []
   },
   "outputs": [],
   "source": []
  },
  {
   "cell_type": "markdown",
   "id": "5dd001b8",
   "metadata": {
    "papermill": {
     "duration": 0.022278,
     "end_time": "2022-01-16T08:44:59.276838",
     "exception": false,
     "start_time": "2022-01-16T08:44:59.254560",
     "status": "completed"
    },
    "tags": []
   },
   "source": [
    "Try adding another line of code in the cell above and re-running it. \n",
    "\n",
    "Now let's get a little fancier:  Add a new code cell by clicking on an existing code cell, hitting the escape key, and then hitting the `a` or `b` key.  The `a` key will add a cell above the current cell, and `b` adds a cell below.\n",
    "\n",
    "Great! Now you know how to use Notebooks.\n",
    "\n",
    "Each hands-on exercise starts by setting up our feedback and code checking mechanism. Run the code cell below to do that. Then you'll be ready to move on to question 0."
   ]
  },
  {
   "cell_type": "code",
   "execution_count": 2,
   "id": "7072b1c3",
   "metadata": {
    "_kg_hide-input": true,
    "_kg_hide-output": true,
    "execution": {
     "iopub.execute_input": "2022-01-16T08:44:59.328923Z",
     "iopub.status.busy": "2022-01-16T08:44:59.328031Z",
     "iopub.status.idle": "2022-01-16T08:44:59.366006Z",
     "shell.execute_reply": "2022-01-16T08:44:59.366461Z",
     "shell.execute_reply.started": "2022-01-16T06:20:35.047333Z"
    },
    "papermill": {
     "duration": 0.067019,
     "end_time": "2022-01-16T08:44:59.366678",
     "exception": false,
     "start_time": "2022-01-16T08:44:59.299659",
     "status": "completed"
    },
    "tags": []
   },
   "outputs": [
    {
     "name": "stdout",
     "output_type": "stream",
     "text": [
      "Setup complete! You're ready to start question 0.\n"
     ]
    }
   ],
   "source": [
    "from learntools.core import binder; binder.bind(globals())\n",
    "from learntools.python.ex1 import *\n",
    "print(\"Setup complete! You're ready to start question 0.\")"
   ]
  },
  {
   "cell_type": "markdown",
   "id": "2023d49b",
   "metadata": {
    "papermill": {
     "duration": 0.024312,
     "end_time": "2022-01-16T08:44:59.415871",
     "exception": false,
     "start_time": "2022-01-16T08:44:59.391559",
     "status": "completed"
    },
    "tags": []
   },
   "source": [
    "# 0.\n",
    "\n",
    "*This is a silly question intended as an introduction to the format we use for hands-on exercises throughout all Kaggle courses.*\n",
    "\n",
    "**What is your favorite color? **\n",
    "\n",
    "To complete this question, create a variable called `color` in the cell below with an appropriate value. The function call `q0.check()` (which we've already provided in the cell below) will check your answer."
   ]
  },
  {
   "cell_type": "code",
   "execution_count": 3,
   "id": "102a7ad7",
   "metadata": {
    "execution": {
     "iopub.execute_input": "2022-01-16T08:44:59.465884Z",
     "iopub.status.busy": "2022-01-16T08:44:59.464932Z",
     "iopub.status.idle": "2022-01-16T08:44:59.476261Z",
     "shell.execute_reply": "2022-01-16T08:44:59.475643Z",
     "shell.execute_reply.started": "2022-01-16T06:20:59.628932Z"
    },
    "papermill": {
     "duration": 0.037377,
     "end_time": "2022-01-16T08:44:59.476414",
     "exception": false,
     "start_time": "2022-01-16T08:44:59.439037",
     "status": "completed"
    },
    "tags": []
   },
   "outputs": [
    {
     "data": {
      "application/javascript": [
       "parent.postMessage({\"jupyterEvent\": \"custom.exercise_interaction\", \"data\": {\"outcomeType\": 1, \"valueTowardsCompletion\": 0.25, \"interactionType\": 1, \"questionType\": 2, \"questionId\": \"0_ExerciseFormatTutorial\", \"learnToolsVersion\": \"0.3.4\", \"failureMessage\": \"\", \"exceptionClass\": \"\", \"trace\": \"\"}}, \"*\")"
      ],
      "text/plain": [
       "<IPython.core.display.Javascript object>"
      ]
     },
     "metadata": {},
     "output_type": "display_data"
    },
    {
     "data": {
      "text/markdown": [
       "<span style=\"color:#33cc33\">Correct:</span> What?! You got it right without needing a hint or anything? Drats. Well hey, you should still continue to the next step to get some practice asking for a hint and checking solutions. (Even though you obviously don't need any help here.)"
      ],
      "text/plain": [
       "Correct: What?! You got it right without needing a hint or anything? Drats. Well hey, you should still continue to the next step to get some practice asking for a hint and checking solutions. (Even though you obviously don't need any help here.)"
      ]
     },
     "metadata": {},
     "output_type": "display_data"
    }
   ],
   "source": [
    "# create a variable called color with an appropriate value on the line below\n",
    "# (Remember, strings in Python must be enclosed in 'single' or \"double\" quotes)\n",
    "color=\"blue\"\n",
    "# Check your answer\n",
    "q0.check()"
   ]
  },
  {
   "cell_type": "markdown",
   "id": "abb8e1b9",
   "metadata": {
    "papermill": {
     "duration": 0.023919,
     "end_time": "2022-01-16T08:44:59.524438",
     "exception": false,
     "start_time": "2022-01-16T08:44:59.500519",
     "status": "completed"
    },
    "tags": []
   },
   "source": [
    "Didn't get the right answer? How do you not even know your own favorite color?!\n",
    "\n",
    "Delete the `#` in the line below to make one of the lines run. You can choose between getting a hint or the full answer by choosing which line to remove the `#` from. \n",
    "\n",
    "Removing the `#` is called uncommenting, because it changes that line from a \"comment\" which Python doesn't run to code, which Python does run."
   ]
  },
  {
   "cell_type": "code",
   "execution_count": 4,
   "id": "acba9fe6",
   "metadata": {
    "execution": {
     "iopub.execute_input": "2022-01-16T08:44:59.578291Z",
     "iopub.status.busy": "2022-01-16T08:44:59.577670Z",
     "iopub.status.idle": "2022-01-16T08:44:59.584636Z",
     "shell.execute_reply": "2022-01-16T08:44:59.585209Z",
     "shell.execute_reply.started": "2022-01-16T06:21:42.450922Z"
    },
    "papermill": {
     "duration": 0.036762,
     "end_time": "2022-01-16T08:44:59.585385",
     "exception": false,
     "start_time": "2022-01-16T08:44:59.548623",
     "status": "completed"
    },
    "tags": []
   },
   "outputs": [
    {
     "data": {
      "application/javascript": [
       "parent.postMessage({\"jupyterEvent\": \"custom.exercise_interaction\", \"data\": {\"interactionType\": 2, \"questionType\": 2, \"questionId\": \"0_ExerciseFormatTutorial\", \"learnToolsVersion\": \"0.3.4\", \"valueTowardsCompletion\": 0.0, \"failureMessage\": \"\", \"exceptionClass\": \"\", \"trace\": \"\", \"outcomeType\": 4}}, \"*\")"
      ],
      "text/plain": [
       "<IPython.core.display.Javascript object>"
      ]
     },
     "metadata": {},
     "output_type": "display_data"
    },
    {
     "data": {
      "text/markdown": [
       "<span style=\"color:#3366cc\">Hint:</span> Your favorite color rhymes with *glue*."
      ],
      "text/plain": [
       "Hint: Your favorite color rhymes with *glue*."
      ]
     },
     "metadata": {},
     "output_type": "display_data"
    },
    {
     "data": {
      "application/javascript": [
       "parent.postMessage({\"jupyterEvent\": \"custom.exercise_interaction\", \"data\": {\"interactionType\": 3, \"questionType\": 2, \"questionId\": \"0_ExerciseFormatTutorial\", \"learnToolsVersion\": \"0.3.4\", \"valueTowardsCompletion\": 0.0, \"failureMessage\": \"\", \"exceptionClass\": \"\", \"trace\": \"\", \"outcomeType\": 4}}, \"*\")"
      ],
      "text/plain": [
       "<IPython.core.display.Javascript object>"
      ]
     },
     "metadata": {},
     "output_type": "display_data"
    },
    {
     "data": {
      "text/markdown": [
       "<span style=\"color:#33cc99\">Solution:</span> \n",
       "```python\n",
       "color = \"blue\"\n",
       "```"
      ],
      "text/plain": [
       "Solution: \n",
       "```python\n",
       "color = \"blue\"\n",
       "```"
      ]
     },
     "metadata": {},
     "output_type": "display_data"
    }
   ],
   "source": [
    "q0.hint()\n",
    "q0.solution()"
   ]
  },
  {
   "cell_type": "markdown",
   "id": "889a8018",
   "metadata": {
    "papermill": {
     "duration": 0.025508,
     "end_time": "2022-01-16T08:44:59.636773",
     "exception": false,
     "start_time": "2022-01-16T08:44:59.611265",
     "status": "completed"
    },
    "tags": []
   },
   "source": [
    "The upcoming questions work the same way. The only thing that will change are the question numbers. For the next question, you'll call `q1.check()`, `q1.hint()`, `q1.solution()`, for question 2, you'll call `q2.check()`, and so on."
   ]
  },
  {
   "cell_type": "markdown",
   "id": "4d9ae61d",
   "metadata": {
    "papermill": {
     "duration": 0.026218,
     "end_time": "2022-01-16T08:44:59.689145",
     "exception": false,
     "start_time": "2022-01-16T08:44:59.662927",
     "status": "completed"
    },
    "tags": []
   },
   "source": [
    "<hr/>\n",
    "\n",
    "# 1.\n",
    "\n",
    "Complete the code below. In case it's helpful, here is the table of available arithmetic operations:\n",
    "\n",
    "\n",
    "\n",
    "| Operator     | Name           | Description                                            |\n",
    "|--------------|----------------|--------------------------------------------------------|\n",
    "| ``a + b``    | Addition       | Sum of ``a`` and ``b``                                 |\n",
    "| ``a - b``    | Subtraction    | Difference of ``a`` and ``b``                          |\n",
    "| ``a * b``    | Multiplication | Product of ``a`` and ``b``                             |\n",
    "| ``a / b``    | True division  | Quotient of ``a`` and ``b``                            |\n",
    "| ``a // b``   | Floor division | Quotient of ``a`` and ``b``, removing fractional parts |\n",
    "| ``a % b``    | Modulus        | Integer remainder after division of ``a`` by ``b``     |\n",
    "| ``a ** b``   | Exponentiation | ``a`` raised to the power of ``b``                     |\n",
    "| ``-a``       | Negation       | The negative of ``a``                                  |\n",
    "\n",
    "<span style=\"display:none\"></span>\n"
   ]
  },
  {
   "cell_type": "code",
   "execution_count": 5,
   "id": "3bbc5da0",
   "metadata": {
    "execution": {
     "iopub.execute_input": "2022-01-16T08:44:59.749377Z",
     "iopub.status.busy": "2022-01-16T08:44:59.748603Z",
     "iopub.status.idle": "2022-01-16T08:44:59.753945Z",
     "shell.execute_reply": "2022-01-16T08:44:59.754389Z",
     "shell.execute_reply.started": "2022-01-16T06:22:51.258649Z"
    },
    "papermill": {
     "duration": 0.038809,
     "end_time": "2022-01-16T08:44:59.754559",
     "exception": false,
     "start_time": "2022-01-16T08:44:59.715750",
     "status": "completed"
    },
    "tags": []
   },
   "outputs": [
    {
     "data": {
      "application/javascript": [
       "parent.postMessage({\"jupyterEvent\": \"custom.exercise_interaction\", \"data\": {\"outcomeType\": 1, \"valueTowardsCompletion\": 0.25, \"interactionType\": 1, \"questionType\": 1, \"questionId\": \"1_CircleArea\", \"learnToolsVersion\": \"0.3.4\", \"failureMessage\": \"\", \"exceptionClass\": \"\", \"trace\": \"\"}}, \"*\")"
      ],
      "text/plain": [
       "<IPython.core.display.Javascript object>"
      ]
     },
     "metadata": {},
     "output_type": "display_data"
    },
    {
     "data": {
      "text/markdown": [
       "<span style=\"color:#33cc33\">Correct</span>"
      ],
      "text/plain": [
       "Correct"
      ]
     },
     "metadata": {},
     "output_type": "display_data"
    }
   ],
   "source": [
    "pi = 3.14159 # approximate\n",
    "diameter = 3\n",
    "\n",
    "# Create a variable called 'radius' equal to half the diameter\n",
    "radius=diameter/2\n",
    "\n",
    "# Create a variable called 'area', using the formula for the area of a circle: pi times the radius squared\n",
    "area=pi*(radius**2)\n",
    "\n",
    "# Check your answer\n",
    "q1.check()"
   ]
  },
  {
   "cell_type": "code",
   "execution_count": 6,
   "id": "baa9fdf4",
   "metadata": {
    "execution": {
     "iopub.execute_input": "2022-01-16T08:44:59.812055Z",
     "iopub.status.busy": "2022-01-16T08:44:59.811163Z",
     "iopub.status.idle": "2022-01-16T08:44:59.814114Z",
     "shell.execute_reply": "2022-01-16T08:44:59.814623Z",
     "shell.execute_reply.started": "2022-01-16T06:23:02.141188Z"
    },
    "papermill": {
     "duration": 0.033444,
     "end_time": "2022-01-16T08:44:59.814805",
     "exception": false,
     "start_time": "2022-01-16T08:44:59.781361",
     "status": "completed"
    },
    "tags": []
   },
   "outputs": [],
   "source": [
    "# Uncomment and run the lines below if you need help.\n",
    "#q1.hint()\n",
    "#q1.solution()"
   ]
  },
  {
   "cell_type": "markdown",
   "id": "39548b4c",
   "metadata": {
    "papermill": {
     "duration": 0.026506,
     "end_time": "2022-01-16T08:44:59.868238",
     "exception": false,
     "start_time": "2022-01-16T08:44:59.841732",
     "status": "completed"
    },
    "tags": []
   },
   "source": [
    "<hr/>\n",
    "\n",
    "# 2.\n",
    "\n",
    "Add code to the following cell to swap variables `a` and `b` (so that `a` refers to the object previously referred to by `b` and vice versa)."
   ]
  },
  {
   "cell_type": "code",
   "execution_count": 7,
   "id": "386847d9",
   "metadata": {
    "execution": {
     "iopub.execute_input": "2022-01-16T08:44:59.925932Z",
     "iopub.status.busy": "2022-01-16T08:44:59.924966Z",
     "iopub.status.idle": "2022-01-16T08:44:59.933920Z",
     "shell.execute_reply": "2022-01-16T08:44:59.934503Z",
     "shell.execute_reply.started": "2022-01-16T06:25:16.28041Z"
    },
    "papermill": {
     "duration": 0.039493,
     "end_time": "2022-01-16T08:44:59.934691",
     "exception": false,
     "start_time": "2022-01-16T08:44:59.895198",
     "status": "completed"
    },
    "tags": []
   },
   "outputs": [
    {
     "data": {
      "application/javascript": [
       "parent.postMessage({\"jupyterEvent\": \"custom.exercise_interaction\", \"data\": {\"outcomeType\": 1, \"valueTowardsCompletion\": 0.25, \"interactionType\": 1, \"questionType\": 2, \"questionId\": \"2_VariableSwap\", \"learnToolsVersion\": \"0.3.4\", \"failureMessage\": \"\", \"exceptionClass\": \"\", \"trace\": \"\"}}, \"*\")"
      ],
      "text/plain": [
       "<IPython.core.display.Javascript object>"
      ]
     },
     "metadata": {},
     "output_type": "display_data"
    },
    {
     "data": {
      "text/markdown": [
       "<span style=\"color:#33cc33\">Correct:</span> \n",
       "\n",
       "The most straightforward solution is to use a third variable to temporarily store one of the old values. e.g.:\n",
       "\n",
       "    tmp = a\n",
       "    a = b\n",
       "    b = tmp\n",
       "\n",
       "If you've read lots of Python code, you might have seen the following trick to swap two variables in one line:\n",
       "\n",
       "    a, b = b, a\n",
       "\n",
       "We'll demystify this bit of Python magic later when we talk about *tuples*."
      ],
      "text/plain": [
       "Correct: \n",
       "\n",
       "The most straightforward solution is to use a third variable to temporarily store one of the old values. e.g.:\n",
       "\n",
       "    tmp = a\n",
       "    a = b\n",
       "    b = tmp\n",
       "\n",
       "If you've read lots of Python code, you might have seen the following trick to swap two variables in one line:\n",
       "\n",
       "    a, b = b, a\n",
       "\n",
       "We'll demystify this bit of Python magic later when we talk about *tuples*."
      ]
     },
     "metadata": {},
     "output_type": "display_data"
    }
   ],
   "source": [
    "########### Setup code - don't touch this part ######################\n",
    "# If you're curious, these are examples of lists. We'll talk about \n",
    "# them in depth a few lessons from now. For now, just know that they're\n",
    "# yet another type of Python object, like int or float.\n",
    "a = [1, 2, 3]\n",
    "b = [3, 2, 1]\n",
    "q2.store_original_ids()\n",
    "######################################################################\n",
    "\n",
    "# Your code goes here. Swap the values to which a and b refer.\n",
    "# If you get stuck, you can always uncomment one or both of the lines in\n",
    "# the next cell for a hint, or to peek at the solution.\n",
    "c=a\n",
    "a=b\n",
    "b=c\n",
    "\n",
    "######################################################################\n",
    "\n",
    "# Check your answer\n",
    "q2.check()"
   ]
  },
  {
   "cell_type": "code",
   "execution_count": 8,
   "id": "d41bf578",
   "metadata": {
    "execution": {
     "iopub.execute_input": "2022-01-16T08:44:59.995210Z",
     "iopub.status.busy": "2022-01-16T08:44:59.993339Z",
     "iopub.status.idle": "2022-01-16T08:44:59.997123Z",
     "shell.execute_reply": "2022-01-16T08:44:59.997650Z",
     "shell.execute_reply.started": "2022-01-16T06:25:22.282422Z"
    },
    "papermill": {
     "duration": 0.035222,
     "end_time": "2022-01-16T08:44:59.997825",
     "exception": false,
     "start_time": "2022-01-16T08:44:59.962603",
     "status": "completed"
    },
    "tags": []
   },
   "outputs": [],
   "source": [
    "#q2.hint()"
   ]
  },
  {
   "cell_type": "code",
   "execution_count": 9,
   "id": "64796b88",
   "metadata": {
    "execution": {
     "iopub.execute_input": "2022-01-16T08:45:00.058064Z",
     "iopub.status.busy": "2022-01-16T08:45:00.057420Z",
     "iopub.status.idle": "2022-01-16T08:45:00.060460Z",
     "shell.execute_reply": "2022-01-16T08:45:00.061016Z",
     "shell.execute_reply.started": "2022-01-16T06:25:22.493665Z"
    },
    "papermill": {
     "duration": 0.035265,
     "end_time": "2022-01-16T08:45:00.061186",
     "exception": false,
     "start_time": "2022-01-16T08:45:00.025921",
     "status": "completed"
    },
    "tags": []
   },
   "outputs": [],
   "source": [
    "#q2.solution()"
   ]
  },
  {
   "cell_type": "markdown",
   "id": "824ff2e6",
   "metadata": {
    "papermill": {
     "duration": 0.027735,
     "end_time": "2022-01-16T08:45:00.116786",
     "exception": false,
     "start_time": "2022-01-16T08:45:00.089051",
     "status": "completed"
    },
    "tags": []
   },
   "source": [
    "<hr/>\n",
    "\n",
    "# 3a.\n",
    "\n",
    "Add parentheses to the following expression so that it evaluates to 1."
   ]
  },
  {
   "cell_type": "code",
   "execution_count": 10,
   "id": "cf729f0f",
   "metadata": {
    "execution": {
     "iopub.execute_input": "2022-01-16T08:45:00.175977Z",
     "iopub.status.busy": "2022-01-16T08:45:00.175306Z",
     "iopub.status.idle": "2022-01-16T08:45:00.181597Z",
     "shell.execute_reply": "2022-01-16T08:45:00.180965Z",
     "shell.execute_reply.started": "2022-01-16T06:25:39.644275Z"
    },
    "papermill": {
     "duration": 0.037012,
     "end_time": "2022-01-16T08:45:00.181738",
     "exception": false,
     "start_time": "2022-01-16T08:45:00.144726",
     "status": "completed"
    },
    "tags": []
   },
   "outputs": [
    {
     "data": {
      "text/plain": [
       "1"
      ]
     },
     "execution_count": 10,
     "metadata": {},
     "output_type": "execute_result"
    }
   ],
   "source": [
    "(5 - 3) // 2"
   ]
  },
  {
   "cell_type": "code",
   "execution_count": 11,
   "id": "5ece0552",
   "metadata": {
    "execution": {
     "iopub.execute_input": "2022-01-16T08:45:00.243455Z",
     "iopub.status.busy": "2022-01-16T08:45:00.242541Z",
     "iopub.status.idle": "2022-01-16T08:45:00.245651Z",
     "shell.execute_reply": "2022-01-16T08:45:00.246225Z",
     "shell.execute_reply.started": "2022-01-16T06:25:42.983872Z"
    },
    "papermill": {
     "duration": 0.036471,
     "end_time": "2022-01-16T08:45:00.246388",
     "exception": false,
     "start_time": "2022-01-16T08:45:00.209917",
     "status": "completed"
    },
    "tags": []
   },
   "outputs": [],
   "source": [
    "#q3.a.hint()"
   ]
  },
  {
   "cell_type": "code",
   "execution_count": 12,
   "id": "a75cb5ef",
   "metadata": {
    "execution": {
     "iopub.execute_input": "2022-01-16T08:45:00.306898Z",
     "iopub.status.busy": "2022-01-16T08:45:00.305982Z",
     "iopub.status.idle": "2022-01-16T08:45:00.313400Z",
     "shell.execute_reply": "2022-01-16T08:45:00.313994Z",
     "shell.execute_reply.started": "2022-01-16T06:25:43.395085Z"
    },
    "papermill": {
     "duration": 0.039258,
     "end_time": "2022-01-16T08:45:00.314160",
     "exception": false,
     "start_time": "2022-01-16T08:45:00.274902",
     "status": "completed"
    },
    "tags": []
   },
   "outputs": [
    {
     "data": {
      "application/javascript": [
       "parent.postMessage({\"jupyterEvent\": \"custom.exercise_interaction\", \"data\": {\"interactionType\": 3, \"questionType\": 4, \"questionId\": \"3.1_ArithmeticParensEasy\", \"learnToolsVersion\": \"0.3.4\", \"valueTowardsCompletion\": 0.0, \"failureMessage\": \"\", \"exceptionClass\": \"\", \"trace\": \"\", \"outcomeType\": 4}}, \"*\")"
      ],
      "text/plain": [
       "<IPython.core.display.Javascript object>"
      ]
     },
     "metadata": {},
     "output_type": "display_data"
    },
    {
     "data": {
      "text/markdown": [
       "<span style=\"color:#33cc99\">Solution:</span> \n",
       "```python\n",
       "(5 - 3) // 2\n",
       "```"
      ],
      "text/plain": [
       "Solution: \n",
       "```python\n",
       "(5 - 3) // 2\n",
       "```"
      ]
     },
     "metadata": {},
     "output_type": "display_data"
    }
   ],
   "source": [
    "# Check your answer (Run this code cell to receive credit!)\n",
    "q3.a.solution()"
   ]
  },
  {
   "cell_type": "markdown",
   "id": "d8586815",
   "metadata": {
    "papermill": {
     "duration": 0.030012,
     "end_time": "2022-01-16T08:45:00.373257",
     "exception": false,
     "start_time": "2022-01-16T08:45:00.343245",
     "status": "completed"
    },
    "tags": []
   },
   "source": [
    "# 3b.  <span title=\"A bit spicy\" style=\"color: darkgreen \">🌶️</span>\n",
    "\n",
    "<small>Questions, like this one, marked a spicy pepper are a bit harder.</small>\n",
    "\n",
    "Add parentheses to the following expression so that it evaluates to 0."
   ]
  },
  {
   "cell_type": "code",
   "execution_count": 13,
   "id": "8e11cecf",
   "metadata": {
    "execution": {
     "iopub.execute_input": "2022-01-16T08:45:00.437626Z",
     "iopub.status.busy": "2022-01-16T08:45:00.436618Z",
     "iopub.status.idle": "2022-01-16T08:45:00.442410Z",
     "shell.execute_reply": "2022-01-16T08:45:00.443026Z",
     "shell.execute_reply.started": "2022-01-16T06:27:45.71207Z"
    },
    "papermill": {
     "duration": 0.040446,
     "end_time": "2022-01-16T08:45:00.443231",
     "exception": false,
     "start_time": "2022-01-16T08:45:00.402785",
     "status": "completed"
    },
    "tags": []
   },
   "outputs": [
    {
     "data": {
      "text/plain": [
       "0"
      ]
     },
     "execution_count": 13,
     "metadata": {},
     "output_type": "execute_result"
    }
   ],
   "source": [
    "(8 - (3 * 2)) - (1 + 1)"
   ]
  },
  {
   "cell_type": "code",
   "execution_count": 14,
   "id": "cc39e27a",
   "metadata": {
    "execution": {
     "iopub.execute_input": "2022-01-16T08:45:00.508824Z",
     "iopub.status.busy": "2022-01-16T08:45:00.507831Z",
     "iopub.status.idle": "2022-01-16T08:45:00.511774Z",
     "shell.execute_reply": "2022-01-16T08:45:00.512343Z",
     "shell.execute_reply.started": "2022-01-16T06:27:46.420367Z"
    },
    "papermill": {
     "duration": 0.038841,
     "end_time": "2022-01-16T08:45:00.512543",
     "exception": false,
     "start_time": "2022-01-16T08:45:00.473702",
     "status": "completed"
    },
    "tags": []
   },
   "outputs": [],
   "source": [
    "#q3.b.hint()"
   ]
  },
  {
   "cell_type": "code",
   "execution_count": 15,
   "id": "a28744ed",
   "metadata": {
    "execution": {
     "iopub.execute_input": "2022-01-16T08:45:00.577501Z",
     "iopub.status.busy": "2022-01-16T08:45:00.576536Z",
     "iopub.status.idle": "2022-01-16T08:45:00.583980Z",
     "shell.execute_reply": "2022-01-16T08:45:00.584627Z",
     "shell.execute_reply.started": "2022-01-16T06:27:46.907587Z"
    },
    "papermill": {
     "duration": 0.04163,
     "end_time": "2022-01-16T08:45:00.584837",
     "exception": false,
     "start_time": "2022-01-16T08:45:00.543207",
     "status": "completed"
    },
    "tags": []
   },
   "outputs": [
    {
     "data": {
      "application/javascript": [
       "parent.postMessage({\"jupyterEvent\": \"custom.exercise_interaction\", \"data\": {\"interactionType\": 3, \"questionType\": 4, \"questionId\": \"3.2_ArithmeticParensHard\", \"learnToolsVersion\": \"0.3.4\", \"valueTowardsCompletion\": 0.0, \"failureMessage\": \"\", \"exceptionClass\": \"\", \"trace\": \"\", \"outcomeType\": 4}}, \"*\")"
      ],
      "text/plain": [
       "<IPython.core.display.Javascript object>"
      ]
     },
     "metadata": {},
     "output_type": "display_data"
    },
    {
     "data": {
      "text/markdown": [
       "<span style=\"color:#33cc99\">Solution:</span> `(8 - 3) * (2 - (1 + 1))` is one solution. There may be others."
      ],
      "text/plain": [
       "Solution: `(8 - 3) * (2 - (1 + 1))` is one solution. There may be others."
      ]
     },
     "metadata": {},
     "output_type": "display_data"
    }
   ],
   "source": [
    "# Check your answer (Run this code cell to receive credit!)\n",
    "q3.b.solution()"
   ]
  },
  {
   "cell_type": "markdown",
   "id": "b241c4fd",
   "metadata": {
    "papermill": {
     "duration": 0.030448,
     "end_time": "2022-01-16T08:45:00.646191",
     "exception": false,
     "start_time": "2022-01-16T08:45:00.615743",
     "status": "completed"
    },
    "tags": []
   },
   "source": [
    "<hr/>\n",
    "\n",
    "# 4. \n",
    "Alice, Bob and Carol have agreed to pool their Halloween candy and split it evenly among themselves.\n",
    "For the sake of their friendship, any candies left over will be smashed. For example, if they collectively\n",
    "bring home 91 candies, they'll take 30 each and smash 1.\n",
    "\n",
    "Write an arithmetic expression below to calculate how many candies they must smash for a given haul."
   ]
  },
  {
   "cell_type": "code",
   "execution_count": 16,
   "id": "658347b2",
   "metadata": {
    "execution": {
     "iopub.execute_input": "2022-01-16T08:45:00.712960Z",
     "iopub.status.busy": "2022-01-16T08:45:00.711907Z",
     "iopub.status.idle": "2022-01-16T08:45:00.721084Z",
     "shell.execute_reply": "2022-01-16T08:45:00.721712Z",
     "shell.execute_reply.started": "2022-01-16T06:31:18.214333Z"
    },
    "papermill": {
     "duration": 0.044632,
     "end_time": "2022-01-16T08:45:00.721914",
     "exception": false,
     "start_time": "2022-01-16T08:45:00.677282",
     "status": "completed"
    },
    "tags": []
   },
   "outputs": [
    {
     "data": {
      "application/javascript": [
       "parent.postMessage({\"jupyterEvent\": \"custom.exercise_interaction\", \"data\": {\"outcomeType\": 1, \"valueTowardsCompletion\": 0.25, \"interactionType\": 1, \"questionType\": 1, \"questionId\": \"4_CandySplitting\", \"learnToolsVersion\": \"0.3.4\", \"failureMessage\": \"\", \"exceptionClass\": \"\", \"trace\": \"\"}}, \"*\")"
      ],
      "text/plain": [
       "<IPython.core.display.Javascript object>"
      ]
     },
     "metadata": {},
     "output_type": "display_data"
    },
    {
     "data": {
      "text/markdown": [
       "<span style=\"color:#33cc33\">Correct</span>"
      ],
      "text/plain": [
       "Correct"
      ]
     },
     "metadata": {},
     "output_type": "display_data"
    }
   ],
   "source": [
    "# Variables representing the number of candies collected by alice, bob, and carol\n",
    "alice_candies = 121\n",
    "bob_candies = 77\n",
    "carol_candies = 109\n",
    "\n",
    "# Your code goes here! Replace the right-hand side of this assignment with an expression\n",
    "# involving alice_candies, bob_candies, and carol_candies\n",
    "to_smash = (alice_candies+bob_candies+carol_candies)%3\n",
    "\n",
    "# Check your answer\n",
    "q4.check()"
   ]
  },
  {
   "cell_type": "code",
   "execution_count": 17,
   "id": "dd6e03c7",
   "metadata": {
    "execution": {
     "iopub.execute_input": "2022-01-16T08:45:00.793761Z",
     "iopub.status.busy": "2022-01-16T08:45:00.792752Z",
     "iopub.status.idle": "2022-01-16T08:45:00.799389Z",
     "shell.execute_reply": "2022-01-16T08:45:00.799986Z",
     "shell.execute_reply.started": "2022-01-16T06:31:26.49655Z"
    },
    "papermill": {
     "duration": 0.045397,
     "end_time": "2022-01-16T08:45:00.800190",
     "exception": false,
     "start_time": "2022-01-16T08:45:00.754793",
     "status": "completed"
    },
    "tags": []
   },
   "outputs": [
    {
     "data": {
      "application/javascript": [
       "parent.postMessage({\"jupyterEvent\": \"custom.exercise_interaction\", \"data\": {\"interactionType\": 3, \"questionType\": 1, \"questionId\": \"4_CandySplitting\", \"learnToolsVersion\": \"0.3.4\", \"valueTowardsCompletion\": 0.0, \"failureMessage\": \"\", \"exceptionClass\": \"\", \"trace\": \"\", \"outcomeType\": 4}}, \"*\")"
      ],
      "text/plain": [
       "<IPython.core.display.Javascript object>"
      ]
     },
     "metadata": {},
     "output_type": "display_data"
    },
    {
     "data": {
      "text/markdown": [
       "<span style=\"color:#33cc99\">Solution:</span> \n",
       "```python\n",
       "(alice_candies + bob_candies + carol_candies) % 3\n",
       "```"
      ],
      "text/plain": [
       "Solution: \n",
       "```python\n",
       "(alice_candies + bob_candies + carol_candies) % 3\n",
       "```"
      ]
     },
     "metadata": {},
     "output_type": "display_data"
    }
   ],
   "source": [
    "#q4.hint()\n",
    "q4.solution()"
   ]
  },
  {
   "cell_type": "markdown",
   "id": "df57c63b",
   "metadata": {
    "papermill": {
     "duration": 0.033009,
     "end_time": "2022-01-16T08:45:00.867623",
     "exception": false,
     "start_time": "2022-01-16T08:45:00.834614",
     "status": "completed"
    },
    "tags": []
   },
   "source": [
    "# Keep Going\n",
    "\n",
    "Next up, you'll **[learn to write new functions and understand functions others write](https://www.kaggle.com/colinmorris/functions-and-getting-help)**. This will make you at least 10 times more productive as a Python programmer. "
   ]
  },
  {
   "cell_type": "markdown",
   "id": "bad67183",
   "metadata": {
    "papermill": {
     "duration": 0.033511,
     "end_time": "2022-01-16T08:45:00.935930",
     "exception": false,
     "start_time": "2022-01-16T08:45:00.902419",
     "status": "completed"
    },
    "tags": []
   },
   "source": [
    "---\n",
    "\n",
    "\n",
    "\n",
    "\n",
    "*Have questions or comments? Visit the [course discussion forum](https://www.kaggle.com/learn/python/discussion) to chat with other learners.*"
   ]
  }
 ],
 "metadata": {
  "kernelspec": {
   "display_name": "Python 3",
   "language": "python",
   "name": "python3"
  },
  "language_info": {
   "codemirror_mode": {
    "name": "ipython",
    "version": 3
   },
   "file_extension": ".py",
   "mimetype": "text/x-python",
   "name": "python",
   "nbconvert_exporter": "python",
   "pygments_lexer": "ipython3",
   "version": "3.7.12"
  },
  "papermill": {
   "default_parameters": {},
   "duration": 13.046988,
   "end_time": "2022-01-16T08:45:01.680993",
   "environment_variables": {},
   "exception": null,
   "input_path": "__notebook__.ipynb",
   "output_path": "__notebook__.ipynb",
   "parameters": {},
   "start_time": "2022-01-16T08:44:48.634005",
   "version": "2.3.3"
  }
 },
 "nbformat": 4,
 "nbformat_minor": 5
}
